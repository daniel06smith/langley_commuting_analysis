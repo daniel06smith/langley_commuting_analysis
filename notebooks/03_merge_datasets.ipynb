{
 "cells": [
  {
   "cell_type": "code",
   "execution_count": 1,
   "id": "be06a79d-433e-4711-940c-941f89513a32",
   "metadata": {},
   "outputs": [],
   "source": [
    "import pandas as pd\n",
    "import numpy as np"
   ]
  },
  {
   "cell_type": "code",
   "execution_count": 2,
   "id": "58ae77ca-2280-4a14-8624-88df9b43884a",
   "metadata": {},
   "outputs": [],
   "source": [
    "commuting_data = pd.read_csv(\"../data/processed/cleaned_commuting_data.csv\")\n",
    "population_data = pd.read_csv(\"../data/processed/cleaned_population_data.csv\")"
   ]
  },
  {
   "cell_type": "code",
   "execution_count": 3,
   "id": "5eb0090b-2d11-4eab-8b9a-caa2ece5d80c",
   "metadata": {},
   "outputs": [
    {
     "name": "stdout",
     "output_type": "stream",
     "text": [
      "Index(['Geography', 'Car_Truck_Van_Less_Than_15', 'Car_Truck_Van_15_to_29',\n",
      "       'Car_Truck_Van_30_to_44', 'Car_Truck_Van_45_to_59',\n",
      "       'Car_Truck_Van_More_Than_60', 'Car_Truck_Van_Avg_Duration',\n",
      "       'Public_Transit_Less_Than_15', 'Public_Transit_15_to_29',\n",
      "       'Public_Transit_30_to_44', 'Public_Transit_45_to_59',\n",
      "       'Public_Transit_More_Than_60', 'Public_Transit_Avg_Duration',\n",
      "       'Active_Transportation_Less_Than_15', 'Active_Transportation_15_to_29',\n",
      "       'Active_Transportation_30_to_44', 'Active_Transportation_45_to_59',\n",
      "       'Active_Transportation_More_Than_60',\n",
      "       'Active_Transportation_Avg_Duration',\n",
      "       'Motorcycle_Scooter_Moped_Less_Than_15',\n",
      "       'Motorcycle_Scooter_Moped_15_to_29',\n",
      "       'Motorcycle_Scooter_Moped_30_to_44',\n",
      "       'Motorcycle_Scooter_Moped_45_to_59',\n",
      "       'Motorcycle_Scooter_Moped_More_Than_60',\n",
      "       'Motorcycle_Scooter_Moped_Avg_Duration', 'Other_Less_Than_15',\n",
      "       'Other_15_to_29', 'Other_30_to_44', 'Other_45_to_59',\n",
      "       'Other_More_Than_60', 'Other_Avg_Duration'],\n",
      "      dtype='object')\n",
      "Index(['Geography', 'Province or Territory Abbreviation', 'Population (2021)',\n",
      "       'Population (2016)', 'Population Percentage Change (2016->2021)',\n",
      "       'Land area (2021) (km^2)', 'Population density per km^2 (2021)'],\n",
      "      dtype='object')\n"
     ]
    }
   ],
   "source": [
    "print(commuting_data.columns)\n",
    "print(population_data.columns)"
   ]
  },
  {
   "cell_type": "code",
   "execution_count": 4,
   "id": "c4b9efda-03b4-44cc-9153-04bb10623e0f",
   "metadata": {},
   "outputs": [
    {
     "name": "stdout",
     "output_type": "stream",
     "text": [
      "0             Division No.  1\n",
      "1    Division No.  1, Subd. V\n",
      "2         Portugal Cove South\n",
      "3                   Trepassey\n",
      "4                 St. Shott's\n",
      "Name: Geography, dtype: object\n"
     ]
    }
   ],
   "source": [
    "# Use regex to remove the trailing \"ixxxx\" from the Geography column of the commuting_data.csv table\n",
    "commuting_data[\"Geography\"] = commuting_data[\"Geography\"].str.replace(r\"\\s*i\\d+$\", \"\", regex=True)\n",
    "\n",
    "# Verify the cleaned Geography column\n",
    "print(commuting_data[\"Geography\"].head())"
   ]
  },
  {
   "cell_type": "code",
   "execution_count": 5,
   "id": "6f0198b5-e000-4500-8041-e61afc712f49",
   "metadata": {},
   "outputs": [],
   "source": [
    "# Merge datasets after standardizing the Geography\n",
    "combined_data = pd.merge(commuting_data, population_data, on=\"Geography\", how=\"inner\")"
   ]
  },
  {
   "cell_type": "markdown",
   "id": "3d6d86d1-f8c5-478c-80ae-66d316b367ac",
   "metadata": {},
   "source": [
    "Let's sort the merged data alphabetically by the \"Geography\" and then print out a sample of the data."
   ]
  },
  {
   "cell_type": "code",
   "execution_count": 6,
   "id": "51fbc5d7-5f12-410d-b2fe-821757bb14e7",
   "metadata": {},
   "outputs": [],
   "source": [
    "combined_data = combined_data.sort_values(by=\"Geography\")\n",
    "combined_data = combined_data.reset_index(drop=True)"
   ]
  },
  {
   "cell_type": "code",
   "execution_count": 7,
   "id": "b81be4b4-de0a-403f-8777-24bfdb48c58d",
   "metadata": {},
   "outputs": [
    {
     "name": "stdout",
     "output_type": "stream",
     "text": [
      "         Geography  Car_Truck_Van_Less_Than_15  Car_Truck_Van_15_to_29  \\\n",
      "0  105 Mile Post 2                         0.0                     0.0   \n",
      "1            Abbey                         0.0                     0.0   \n",
      "2       Abbotsford                     17450.0                 14690.0   \n",
      "3         Abercorn                        40.0                     0.0   \n",
      "4         Aberdeen                        45.0                    85.0   \n",
      "\n",
      "   Car_Truck_Van_30_to_44  Car_Truck_Van_45_to_59  Car_Truck_Van_More_Than_60  \\\n",
      "0                     0.0                     0.0                         0.0   \n",
      "1                     0.0                     0.0                         0.0   \n",
      "2                  7015.0                  2275.0                      1135.0   \n",
      "3                    15.0                     0.0                         0.0   \n",
      "4                    30.0                    15.0                        35.0   \n",
      "\n",
      "   Car_Truck_Van_Avg_Duration  Public_Transit_Less_Than_15  \\\n",
      "0                         0.0                          0.0   \n",
      "1                         0.0                          0.0   \n",
      "2                        19.4                        135.0   \n",
      "3                        18.8                          0.0   \n",
      "4                        30.3                          0.0   \n",
      "\n",
      "   Public_Transit_15_to_29  Public_Transit_30_to_44  ...  Other_30_to_44  \\\n",
      "0                      0.0                      0.0  ...             0.0   \n",
      "1                      0.0                      0.0  ...             0.0   \n",
      "2                    455.0                    260.0  ...            90.0   \n",
      "3                      0.0                      0.0  ...             0.0   \n",
      "4                      0.0                      0.0  ...             0.0   \n",
      "\n",
      "   Other_45_to_59  Other_More_Than_60  Other_Avg_Duration  \\\n",
      "0             0.0                 0.0                 0.0   \n",
      "1             0.0                 0.0                 0.0   \n",
      "2            25.0                10.0                13.2   \n",
      "3             0.0                 0.0                 0.0   \n",
      "4             0.0                 0.0                 0.0   \n",
      "\n",
      "   Province or Territory Abbreviation  Population (2021)  Population (2016)  \\\n",
      "0                                B.C.                  5                 10   \n",
      "1                               Sask.                100                129   \n",
      "2                                B.C.             153524             141397   \n",
      "3                                Que.                341                334   \n",
      "4                                N.B.                812                781   \n",
      "\n",
      "   Population Percentage Change (2016->2021)  Land area (2021) (km^2)  \\\n",
      "0                                      -50.0                    13.65   \n",
      "1                                      -22.5                     0.73   \n",
      "2                                        8.6                   375.33   \n",
      "3                                        2.1                    26.72   \n",
      "4                                        4.0                   444.88   \n",
      "\n",
      "   Population density per km^2 (2021)  \n",
      "0                                 0.4  \n",
      "1                               137.6  \n",
      "2                               409.0  \n",
      "3                                12.8  \n",
      "4                                 1.8  \n",
      "\n",
      "[5 rows x 37 columns]\n",
      "<class 'pandas.core.frame.DataFrame'>\n",
      "RangeIndex: 4623 entries, 0 to 4622\n",
      "Data columns (total 37 columns):\n",
      " #   Column                                     Non-Null Count  Dtype  \n",
      "---  ------                                     --------------  -----  \n",
      " 0   Geography                                  4623 non-null   object \n",
      " 1   Car_Truck_Van_Less_Than_15                 4623 non-null   float64\n",
      " 2   Car_Truck_Van_15_to_29                     4623 non-null   float64\n",
      " 3   Car_Truck_Van_30_to_44                     4623 non-null   float64\n",
      " 4   Car_Truck_Van_45_to_59                     4623 non-null   float64\n",
      " 5   Car_Truck_Van_More_Than_60                 4623 non-null   float64\n",
      " 6   Car_Truck_Van_Avg_Duration                 4623 non-null   float64\n",
      " 7   Public_Transit_Less_Than_15                4623 non-null   float64\n",
      " 8   Public_Transit_15_to_29                    4623 non-null   float64\n",
      " 9   Public_Transit_30_to_44                    4623 non-null   float64\n",
      " 10  Public_Transit_45_to_59                    4623 non-null   float64\n",
      " 11  Public_Transit_More_Than_60                4623 non-null   float64\n",
      " 12  Public_Transit_Avg_Duration                4623 non-null   float64\n",
      " 13  Active_Transportation_Less_Than_15         4623 non-null   float64\n",
      " 14  Active_Transportation_15_to_29             4623 non-null   float64\n",
      " 15  Active_Transportation_30_to_44             4623 non-null   float64\n",
      " 16  Active_Transportation_45_to_59             4623 non-null   float64\n",
      " 17  Active_Transportation_More_Than_60         4623 non-null   float64\n",
      " 18  Active_Transportation_Avg_Duration         4623 non-null   float64\n",
      " 19  Motorcycle_Scooter_Moped_Less_Than_15      4623 non-null   float64\n",
      " 20  Motorcycle_Scooter_Moped_15_to_29          4623 non-null   float64\n",
      " 21  Motorcycle_Scooter_Moped_30_to_44          4623 non-null   float64\n",
      " 22  Motorcycle_Scooter_Moped_45_to_59          4623 non-null   float64\n",
      " 23  Motorcycle_Scooter_Moped_More_Than_60      4623 non-null   float64\n",
      " 24  Motorcycle_Scooter_Moped_Avg_Duration      4623 non-null   float64\n",
      " 25  Other_Less_Than_15                         4623 non-null   float64\n",
      " 26  Other_15_to_29                             4623 non-null   float64\n",
      " 27  Other_30_to_44                             4623 non-null   float64\n",
      " 28  Other_45_to_59                             4623 non-null   float64\n",
      " 29  Other_More_Than_60                         4623 non-null   float64\n",
      " 30  Other_Avg_Duration                         4623 non-null   float64\n",
      " 31  Province or Territory Abbreviation         4623 non-null   object \n",
      " 32  Population (2021)                          4623 non-null   int64  \n",
      " 33  Population (2016)                          4623 non-null   int64  \n",
      " 34  Population Percentage Change (2016->2021)  4623 non-null   float64\n",
      " 35  Land area (2021) (km^2)                    4623 non-null   float64\n",
      " 36  Population density per km^2 (2021)         4623 non-null   float64\n",
      "dtypes: float64(33), int64(2), object(2)\n",
      "memory usage: 1.3+ MB\n",
      "None\n"
     ]
    }
   ],
   "source": [
    "print(combined_data.head())\n",
    "print(combined_data.info())"
   ]
  },
  {
   "cell_type": "markdown",
   "id": "dbb8065c-2ec1-4c6a-a90e-d572a23d26ce",
   "metadata": {},
   "source": [
    "Throughout this merged data table, we have some duplicate values for some geographies. This occurs because some of the geographies from the Statistics Canada dataset are both cities and district municipalities under the same name. Let's check for duplicate entries and let's resolve them before we move onto the data analysis stage. This will ensure we have clean and reliable data."
   ]
  },
  {
   "cell_type": "code",
   "execution_count": 12,
   "id": "a9bfaff3-d000-4082-b8d2-676371f579d2",
   "metadata": {},
   "outputs": [
    {
     "name": "stdout",
     "output_type": "stream",
     "text": [
      "Number of duplicate entries in merged dataset: 542\n",
      "      Geography  Car_Truck_Van_Less_Than_15  Car_Truck_Van_15_to_29  \\\n",
      "4      Aberdeen                        45.0                    85.0   \n",
      "5      Aberdeen                        85.0                    80.0   \n",
      "30     Akulivik                        65.0                     0.0   \n",
      "31     Akulivik                         0.0                     0.0   \n",
      "43     Alberton                         0.0                     0.0   \n",
      "...         ...                         ...                     ...   \n",
      "4572  Woodstock                      1855.0                   865.0   \n",
      "4573  Woodstock                      7950.0                  4400.0   \n",
      "4589   Yarmouth                      3800.0                  2435.0   \n",
      "4590   Yarmouth                       735.0                   550.0   \n",
      "4591   Yarmouth                      2410.0                  1585.0   \n",
      "\n",
      "      Car_Truck_Van_30_to_44  Car_Truck_Van_45_to_59  \\\n",
      "4                       30.0                    15.0   \n",
      "5                       50.0                     0.0   \n",
      "30                       0.0                     0.0   \n",
      "31                       0.0                     0.0   \n",
      "43                       0.0                     0.0   \n",
      "...                      ...                     ...   \n",
      "4572                   400.0                    90.0   \n",
      "4573                  3460.0                  1870.0   \n",
      "4589                   625.0                   215.0   \n",
      "4590                    70.0                    50.0   \n",
      "4591                   360.0                   115.0   \n",
      "\n",
      "      Car_Truck_Van_More_Than_60  Car_Truck_Van_Avg_Duration  \\\n",
      "4                           35.0                        30.3   \n",
      "5                           15.0                        21.5   \n",
      "30                           0.0                         4.6   \n",
      "31                           0.0                         0.0   \n",
      "43                           0.0                         0.0   \n",
      "...                          ...                         ...   \n",
      "4572                        95.0                        16.2   \n",
      "4573                       610.0                        21.4   \n",
      "4589                       110.0                        15.3   \n",
      "4590                        20.0                        15.3   \n",
      "4591                        85.0                        15.4   \n",
      "\n",
      "      Public_Transit_Less_Than_15  Public_Transit_15_to_29  \\\n",
      "4                             0.0                      0.0   \n",
      "5                             0.0                      0.0   \n",
      "30                            0.0                      0.0   \n",
      "31                            0.0                      0.0   \n",
      "43                            0.0                      0.0   \n",
      "...                           ...                      ...   \n",
      "4572                          0.0                      0.0   \n",
      "4573                         30.0                     60.0   \n",
      "4589                          0.0                     10.0   \n",
      "4590                          0.0                      0.0   \n",
      "4591                          0.0                     10.0   \n",
      "\n",
      "      Public_Transit_30_to_44  ...  Other_30_to_44  Other_45_to_59  \\\n",
      "4                         0.0  ...             0.0             0.0   \n",
      "5                         0.0  ...             0.0             0.0   \n",
      "30                        0.0  ...             0.0             0.0   \n",
      "31                        0.0  ...             0.0             0.0   \n",
      "43                        0.0  ...             0.0             0.0   \n",
      "...                       ...  ...             ...             ...   \n",
      "4572                      0.0  ...             0.0             0.0   \n",
      "4573                     25.0  ...            15.0            10.0   \n",
      "4589                     10.0  ...             0.0             0.0   \n",
      "4590                      0.0  ...             0.0             0.0   \n",
      "4591                      0.0  ...             0.0             0.0   \n",
      "\n",
      "      Other_More_Than_60  Other_Avg_Duration  \\\n",
      "4                    0.0                 0.0   \n",
      "5                    0.0                 0.0   \n",
      "30                   0.0                 7.2   \n",
      "31                   0.0                 0.0   \n",
      "43                   0.0                 0.0   \n",
      "...                  ...                 ...   \n",
      "4572                 0.0                15.2   \n",
      "4573                 0.0                11.3   \n",
      "4589                20.0                19.8   \n",
      "4590                20.0                27.6   \n",
      "4591                 0.0                 7.2   \n",
      "\n",
      "      Province or Territory Abbreviation  Population (2021)  \\\n",
      "4                                   N.B.                812   \n",
      "5                                   N.B.                812   \n",
      "30                                  Que.                642   \n",
      "31                                  Que.                642   \n",
      "43                                P.E.I.               1301   \n",
      "...                                  ...                ...   \n",
      "4572                                N.L.                195   \n",
      "4573                                N.L.                195   \n",
      "4589                                N.S.              10067   \n",
      "4590                                N.S.              10067   \n",
      "4591                                N.S.              10067   \n",
      "\n",
      "      Population (2016)  Population Percentage Change (2016->2021)  \\\n",
      "4                   781                                        4.0   \n",
      "5                   781                                        4.0   \n",
      "30                  633                                        1.4   \n",
      "31                  633                                        1.4   \n",
      "43                 1145                                       13.6   \n",
      "...                 ...                                        ...   \n",
      "4572                190                                        2.6   \n",
      "4573                190                                        2.6   \n",
      "4589               9845                                        2.3   \n",
      "4590               9845                                        2.3   \n",
      "4591               9845                                        2.3   \n",
      "\n",
      "      Land area (2021) (km^2)  Population density per km^2 (2021)  \n",
      "4                      444.88                                 1.8  \n",
      "5                      444.88                                 1.8  \n",
      "30                      75.02                                 8.6  \n",
      "31                      75.02                                 8.6  \n",
      "43                       4.70                               277.0  \n",
      "...                       ...                                 ...  \n",
      "4572                    10.05                                19.4  \n",
      "4573                    10.05                                19.4  \n",
      "4589                   584.69                                17.2  \n",
      "4590                   584.69                                17.2  \n",
      "4591                   584.69                                17.2  \n",
      "\n",
      "[542 rows x 37 columns]\n"
     ]
    }
   ],
   "source": [
    "# Check for duplicates in the merged dataset\n",
    "duplicates = combined_data[combined_data.duplicated(subset=\"Geography\", keep=False)]\n",
    "\n",
    "print(f\"Number of duplicate entries in merged dataset: {len(duplicates)}\")\n",
    "print(duplicates)"
   ]
  },
  {
   "cell_type": "markdown",
   "id": "1eefb159-e1eb-4096-a8d5-b9dff4f72d92",
   "metadata": {},
   "source": [
    "We can see that we have  542 rows of data that have a duplicate. To resolve this, we can aggregate data under the same Geography name. For numeric columns, we can take the mean value, whilst for the categorical data, namely \"Geography\" and \"Province or Territory Abbreviation\" we can just take the first instance, since they will be the same for both rows."
   ]
  },
  {
   "cell_type": "code",
   "execution_count": 14,
   "id": "29a9188e-6095-466c-a42d-4f98458a1c9b",
   "metadata": {},
   "outputs": [],
   "source": [
    "# Identify non-numerical columns first\n",
    "non_numerical_cols = [\"Geography\", \"Province or Territory Abbreviation\"]\n",
    "\n",
    "# Seperate numerical and non-numerical columns\n",
    "numeric_cols = [col for col in combined_data.columns if col not in non_numerical_cols]\n",
    "\n",
    "# Aggregate numerical columns by Geography\n",
    "aggregated_numeric = combined_data.groupby(\"Geography\")[numeric_cols].mean().reset_index()\n",
    "\n",
    "# Aggregate non-numerical columns by Geography\n",
    "aggregated_non_numeric = combined_data.groupby(\"Geography\")[[\"Province or Territory Abbreviation\"]].first().reset_index()\n",
    "\n",
    "# Merge the two aggregated datasets\n",
    "final_aggregated_data = pd.merge(aggregated_numeric, aggregated_non_numeric, on=\"Geography\")"
   ]
  },
  {
   "cell_type": "markdown",
   "id": "2899ddce-f05b-47cd-99a6-a482030e5306",
   "metadata": {},
   "source": [
    "We should double check that the aggreation process worked correctly, and then our data will be ready to export into one larger .csv file for exploratory data analysis."
   ]
  },
  {
   "cell_type": "code",
   "execution_count": 15,
   "id": "b612f532-5b04-4ee8-ab96-7df394e7dfd1",
   "metadata": {},
   "outputs": [
    {
     "name": "stdout",
     "output_type": "stream",
     "text": [
      "Number of duplicate geographies after cleaning: 0\n"
     ]
    }
   ],
   "source": [
    "# Verify that duplicates are resolved\n",
    "duplicates_check = final_aggregated_data[final_aggregated_data.duplicated(subset=\"Geography\", keep=False)]\n",
    "print(f\"Number of duplicate geographies after cleaning: {len(duplicates_check)}\")\n",
    "\n",
    "# Save the cleaned and aggregated data\n",
    "final_aggregated_data.to_csv(\"../data/processed/cleaned_combined_data.csv\", index=False)"
   ]
  }
 ],
 "metadata": {
  "kernelspec": {
   "display_name": "Python 3 (ipykernel)",
   "language": "python",
   "name": "python3"
  },
  "language_info": {
   "codemirror_mode": {
    "name": "ipython",
    "version": 3
   },
   "file_extension": ".py",
   "mimetype": "text/x-python",
   "name": "python",
   "nbconvert_exporter": "python",
   "pygments_lexer": "ipython3",
   "version": "3.13.0"
  }
 },
 "nbformat": 4,
 "nbformat_minor": 5
}
