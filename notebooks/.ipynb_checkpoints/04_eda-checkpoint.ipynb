{
 "cells": [
  {
   "cell_type": "markdown",
   "id": "38a55dc4-bbfe-4d65-b9ac-47c3b251f58a",
   "metadata": {},
   "source": [
    "The first stage in the exploratory data analysis (EDA) process is to reinstate our question. The goal of this project is to find cities in Canada with similar population size and population growth rate to Langley, BC, and compare their efforts to lower commuting times across all types of transportation modes. To do this, it is essential that we know what population size and population growth rate Langley has:"
   ]
  },
  {
   "cell_type": "code",
   "execution_count": 8,
   "id": "9e093015-1eae-4b64-a21e-c17115036734",
   "metadata": {},
   "outputs": [
    {
     "name": "stdout",
     "output_type": "stream",
     "text": [
      "Langley's population in 2021: 132603.0\n",
      "Langley's population growth rate in 2021: 13.1\n"
     ]
    }
   ],
   "source": [
    "import pandas as pd\n",
    "import numpy as np\n",
    "import matplotlib.pyplot as plt\n",
    "combined_data = pd.read_csv(\"../data/processed/cleaned_combined_data.csv\")\n",
    "\n",
    "# Define Langley's population and growth rate\n",
    "langley_population_2021 = combined_data[combined_data[\"Geography\"] == \"Langley\"][\"Population (2021)\"].values[0]\n",
    "langley_growth_rate = combined_data[combined_data[\"Geography\"] == \"Langley\"][\"Population Percentage Change (2016->2021)\"].values[0]\n",
    "\n",
    "# Display the values\n",
    "print(\"Langley's population in 2021: \" + str(langley_population_2021))\n",
    "print(\"Langley's population growth rate in 2021: \" + str(langley_growth_rate))"
   ]
  },
  {
   "cell_type": "markdown",
   "id": "40334c67-9c26-478b-8b0d-0ce6f70e2b34",
   "metadata": {},
   "source": [
    "Now that we have the values, we can determine a population and a growth rate range to find cities within. For the purposes of this project, we can determine a simlar population as +/- 50% of Langleys population in 2021, and a growth rate within 5% of Langley's growth rate in 2021.\n",
    "\n",
    "It is essential that we only get cities that fulfill both of these conditions, as cities with smaller populations might have a very high growth rate, however their infrastructure might be more prepared for that amount of people since they don't have as large of a population to begin with."
   ]
  },
  {
   "cell_type": "code",
   "execution_count": 3,
   "id": "a892c3de-30b1-4f78-b6b3-b32a48cc528e",
   "metadata": {},
   "outputs": [
    {
     "name": "stdout",
     "output_type": "stream",
     "text": [
      "            Geography  Car_Truck_Van_Less_Than_15  Car_Truck_Van_15_to_29  \\\n",
      "2          Abbotsford                     17450.0                 14690.0   \n",
      "610        Chilliwack                     10315.0                  8555.0   \n",
      "639        Clarington                      6185.0                  5955.0   \n",
      "1349           Guelph                     17890.0                 16560.0   \n",
      "1571         Kamloops                     12660.0                 12275.0   \n",
      "1885          Langley                      6527.5                  9895.0   \n",
      "2082      Maple Ridge                      6540.0                  4990.0   \n",
      "2361          Nanaimo                     16837.5                 12600.0   \n",
      "2408  New Westminster                      2660.0                  6175.0   \n",
      "2592           Oshawa                     11460.0                 11905.0   \n",
      "2706        Pickering                      5035.0                  7110.0   \n",
      "\n",
      "      Car_Truck_Van_30_to_44  Car_Truck_Van_45_to_59  \\\n",
      "2                     7015.0                  2275.0   \n",
      "610                   2025.0                   780.0   \n",
      "639                   2760.0                  1360.0   \n",
      "1349                  8035.0                  2755.0   \n",
      "1571                  1890.0                   630.0   \n",
      "1885                  5785.0                  1897.5   \n",
      "2082                  3000.0                  1065.0   \n",
      "2361                  3000.0                   920.0   \n",
      "2408                  4475.0                  1250.0   \n",
      "2592                  3540.0                  1515.0   \n",
      "2706                  4740.0                  1505.0   \n",
      "\n",
      "      Car_Truck_Van_More_Than_60  Car_Truck_Van_Avg_Duration  \\\n",
      "2                         1135.0                       19.40   \n",
      "610                        780.0                       17.50   \n",
      "639                       1005.0                       22.60   \n",
      "1349                      2045.0                       21.00   \n",
      "1571                       535.0                       16.20   \n",
      "1885                       745.0                       22.60   \n",
      "2082                       535.0                       20.40   \n",
      "2361                       690.0                       16.15   \n",
      "2408                       535.0                       25.50   \n",
      "2592                      1540.0                       20.50   \n",
      "2706                      1495.0                       25.90   \n",
      "\n",
      "      Public_Transit_Less_Than_15  Public_Transit_15_to_29  \\\n",
      "2                           135.0                    455.0   \n",
      "610                          80.0                    220.0   \n",
      "639                          30.0                     85.0   \n",
      "1349                        220.0                    565.0   \n",
      "1571                        315.0                    575.0   \n",
      "1885                        107.5                    297.5   \n",
      "2082                        150.0                    305.0   \n",
      "2361                        202.5                    492.5   \n",
      "2408                        275.0                    925.0   \n",
      "2592                        160.0                    330.0   \n",
      "2706                         75.0                    200.0   \n",
      "\n",
      "      Public_Transit_30_to_44  ...  Other_30_to_44  Other_45_to_59  \\\n",
      "2                       260.0  ...            90.0            25.0   \n",
      "610                      90.0  ...            10.0            10.0   \n",
      "639                      65.0  ...            15.0             0.0   \n",
      "1349                    830.0  ...            35.0            15.0   \n",
      "1571                    345.0  ...             0.0            10.0   \n",
      "1885                    395.0  ...            22.5             7.5   \n",
      "2082                    185.0  ...            20.0            20.0   \n",
      "2361                    410.0  ...            37.5             5.0   \n",
      "2408                   1445.0  ...            60.0            15.0   \n",
      "2592                    520.0  ...            10.0            15.0   \n",
      "2706                    260.0  ...            55.0            15.0   \n",
      "\n",
      "      Other_More_Than_60  Other_Avg_Duration  Population (2021)  \\\n",
      "2                   10.0               13.20           153524.0   \n",
      "610                 15.0               10.10            93203.0   \n",
      "639                 25.0                7.60           101427.0   \n",
      "1349                30.0               10.40           143740.0   \n",
      "1571                 0.0                5.90            97902.0   \n",
      "1885                 5.0               10.80           132603.0   \n",
      "2082                10.0                9.00            90990.0   \n",
      "2361                20.0                9.85            99863.0   \n",
      "2408                10.0               12.00            78916.0   \n",
      "2592                50.0               10.80           175383.0   \n",
      "2706                50.0               13.50            99186.0   \n",
      "\n",
      "      Population (2016)  Population Percentage Change (2016->2021)  \\\n",
      "2              141397.0                                        8.6   \n",
      "610             83788.0                                       11.2   \n",
      "639             92013.0                                       10.2   \n",
      "1349           131794.0                                        9.1   \n",
      "1571            90280.0                                        8.4   \n",
      "1885           117285.0                                       13.1   \n",
      "2082            82256.0                                       10.6   \n",
      "2361            90504.0                                       10.3   \n",
      "2408            70996.0                                       11.2   \n",
      "2592           159458.0                                       10.0   \n",
      "2706            91771.0                                        8.1   \n",
      "\n",
      "      Land area (2021) (km^2)  Population density per km^2 (2021)  \\\n",
      "2                      375.33                               409.0   \n",
      "610                    261.34                               356.6   \n",
      "639                    610.84                               166.0   \n",
      "1349                    87.43                              1644.1   \n",
      "1571                   297.93                               328.6   \n",
      "1885                   307.22                               431.6   \n",
      "2082                   267.82                               339.7   \n",
      "2361                    90.45                              1104.1   \n",
      "2408                    15.62                              5052.4   \n",
      "2592                   145.72                              1203.6   \n",
      "2706                   231.10                               429.2   \n",
      "\n",
      "      Province or Territory Abbreviation  \n",
      "2                                   B.C.  \n",
      "610                                 B.C.  \n",
      "639                                 Ont.  \n",
      "1349                                Ont.  \n",
      "1571                                B.C.  \n",
      "1885                                B.C.  \n",
      "2082                                B.C.  \n",
      "2361                                B.C.  \n",
      "2408                                B.C.  \n",
      "2592                                Ont.  \n",
      "2706                                Ont.  \n",
      "\n",
      "[11 rows x 37 columns]\n"
     ]
    }
   ],
   "source": [
    "# Identify similar cities\n",
    "\n",
    "similar_cities = combined_data[\n",
    "    ((combined_data[\"Population (2021)\"] >= langley_population_2021 * 0.5) & \n",
    "    (combined_data[\"Population (2021)\"] <= langley_population_2021 * 1.5)) &\n",
    "    ((combined_data[\"Population Percentage Change (2016->2021)\"] >= langley_growth_rate - 5) &\n",
    "    (combined_data[\"Population Percentage Change (2016->2021)\"] <= langley_growth_rate + 5))\n",
    "]\n",
    "\n",
    "print(similar_cities)"
   ]
  },
  {
   "cell_type": "markdown",
   "id": "378aeb5f-a9d7-413d-8a3b-b66111d92ce5",
   "metadata": {},
   "source": [
    "This is great! We've found 11 cities, including Langley, that are within our constraints. With these cities in mind, we can continue onto the next stage of the EDA process. Let's make a new dataset of just these values (so far we've only filtered the dataset, not created a new dataset) so that we can work with just these 11 cities. The next thing we will do is calculate summary statistics for the commuting times of all the various cities. "
   ]
  },
  {
   "cell_type": "code",
   "execution_count": 4,
   "id": "1c1d5b48-4aee-474f-a51c-5c649f3495d0",
   "metadata": {
    "scrolled": true
   },
   "outputs": [
    {
     "name": "stdout",
     "output_type": "stream",
     "text": [
      "       Car_Truck_Van_Avg_Duration  Public_Transit_Avg_Duration  \\\n",
      "count                   11.000000                    11.000000   \n",
      "mean                    20.704545                    35.718182   \n",
      "std                      3.322684                     6.146636   \n",
      "min                     16.150000                    28.000000   \n",
      "25%                     18.450000                    31.025000   \n",
      "50%                     20.500000                    34.100000   \n",
      "75%                     22.600000                    39.400000   \n",
      "max                     25.900000                    47.000000   \n",
      "\n",
      "       Active_Transportation_Avg_Duration  \\\n",
      "count                           11.000000   \n",
      "mean                            13.154545   \n",
      "std                              1.754488   \n",
      "min                              9.200000   \n",
      "25%                             12.425000   \n",
      "50%                             13.200000   \n",
      "75%                             14.350000   \n",
      "max                             15.800000   \n",
      "\n",
      "       Motorcycle_Scooter_Moped_Avg_Duration  Other_Avg_Duration  \n",
      "count                              11.000000           11.000000  \n",
      "mean                               14.218182           10.286364  \n",
      "std                                 7.564234            2.250121  \n",
      "min                                 0.000000            5.900000  \n",
      "25%                                13.850000            9.425000  \n",
      "50%                                15.600000           10.400000  \n",
      "75%                                19.650000           11.400000  \n",
      "max                                21.600000           13.500000  \n"
     ]
    }
   ],
   "source": [
    "# Filter the combined_data to include only the 11 similar cities\n",
    "similar_cities_stats = combined_data[combined_data[\"Geography\"].isin(similar_cities[\"Geography\"])]\n",
    "\n",
    "# Calculate summary statistics for commuting times\n",
    "summary_stats = similar_cities_stats[\n",
    "    [\n",
    "        \"Car_Truck_Van_Avg_Duration\",\n",
    "        \"Public_Transit_Avg_Duration\",\n",
    "        \"Active_Transportation_Avg_Duration\",\n",
    "        \"Motorcycle_Scooter_Moped_Avg_Duration\",\n",
    "        \"Other_Avg_Duration\"\n",
    "    ]\n",
    "].describe()\n",
    "\n",
    "print(summary_stats)"
   ]
  },
  {
   "cell_type": "markdown",
   "id": "8ce7f16c-c852-49d4-b8d0-7a9a4632e58e",
   "metadata": {},
   "source": [
    "We can now begin visualizing our data. We will do this with a focus mainly on the averaged durations for each transportation method (e.g., \"Car_Truck_Van_Avg_Duration). First, we have to remove the population-related data. While this data will be important, right now we are looking at general commuting-related data."
   ]
  },
  {
   "cell_type": "code",
   "execution_count": 15,
   "id": "7e187955-038c-4743-b33d-0372a48910eb",
   "metadata": {},
   "outputs": [
    {
     "data": {
      "image/png": "[encoded data removed]",
      "text/plain": [
       "<Figure size 1000x600 with 1 Axes>"
      ]
     },
     "metadata": {},
     "output_type": "display_data"
    }
   ],
   "source": [
    "# Exclude population-related columns\n",
    "exclude_columns = [\n",
    "    \"Population (2021)\", \n",
    "    \"Population (2016)\", \n",
    "    \"Population Percentage Change (2016->2021)\", \n",
    "    \"Land area (2021) (km^2)\", \n",
    "    \"Population density per km^2 (2021)\"\n",
    "]\n",
    "\n",
    "custom_labels = [\n",
    "    \"Car/Truck/Van\",\n",
    "    \"Public Transit\",\n",
    "    \"Active Transportation\",\n",
    "    \"Motorcycle/Scooter\",\n",
    "    \"Other\"\n",
    "]\n",
    "\n",
    "# Filter numeric columns that end with \"_Avg_Duration\"\n",
    "avg_duration_columns = [\n",
    "    col for col in similar_cities_stats.columns \n",
    "    if col.endswith(\"_Avg_Duration\") and col not in exclude_columns\n",
    "]\n",
    "\n",
    "# Select only the filtered columns\n",
    "numeric_avg_duration = similar_cities_stats[avg_duration_columns]\n",
    "\n",
    "# Calculate the average for each transportation mode\n",
    "avg_commuting_times = numeric_avg_duration.mean()\n",
    "\n",
    "# Create box plots for average duration columns\n",
    "numeric_avg_duration.plot(kind=\"box\", figsize=(10, 6), title=\"Distribution of Average Commuting Times by Mode\")\n",
    "plt.ylabel(\"Duration (minutes)\")\n",
    "plt.xlabel(\"Transportation Mode\")\n",
    "\n",
    "# Align x-axis labels with the positions of the box plots\n",
    "plt.xticks(ticks=range(1, len(numeric_avg_duration.columns) + 1), labels=custom_labels, rotation=45)\n",
    "\n",
    "plt.show()"
   ]
  },
  {
   "cell_type": "markdown",
   "id": "6394ad23-2b25-45ad-bc55-07b0e918565c",
   "metadata": {},
   "source": [
    "This box plot illustrates the minimum, maximum, and average commuting times for various transportation modes.\n",
    "\n",
    "Commuters using public transit experience significantly longer commuting times, often over double that of other modes. This could result from inadequate public transportation infrastructure or limited transit routes near commuters' starting and ending points. Additionally, the wide variance and extended maximum times highlight inconsistencies in public transit reliability and accessibility.\n",
    "\n",
    "In contrast, active transportation (e.g., walking or biking) shows notably short commuting times with minimal variance. This is likely because most individuals using active transportation live close to their workplaces. The uniformity in commuting times suggests that active transportation is less influenced by external factors, though lacking infrastructure, such as sidewalks or bike lanes, may still pose challenges."
   ]
  },
  {
   "cell_type": "code",
   "execution_count": null,
   "id": "9ba42cc9-5990-46e6-8fa5-801316899553",
   "metadata": {},
   "outputs": [],
   "source": []
  }
 ],
 "metadata": {
  "kernelspec": {
   "display_name": "Python 3 (ipykernel)",
   "language": "python",
   "name": "python3"
  },
  "language_info": {
   "codemirror_mode": {
    "name": "ipython",
    "version": 3
   },
   "file_extension": ".py",
   "mimetype": "text/x-python",
   "name": "python",
   "nbconvert_exporter": "python",
   "pygments_lexer": "ipython3",
   "version": "3.13.0"
  }
 },
 "nbformat": 4,
 "nbformat_minor": 5
}
