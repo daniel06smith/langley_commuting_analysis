{
 "cells": [
  {
   "cell_type": "code",
   "execution_count": 1,
   "id": "94f16f35-e7c1-4279-9a6f-dd8dd98d85b4",
   "metadata": {},
   "outputs": [],
   "source": [
    "import pandas as pd\n",
    "import numpy as np"
   ]
  },
  {
   "cell_type": "code",
   "execution_count": 2,
   "id": "e9b9ee94-883b-4f69-bf56-a85a8f6a804f",
   "metadata": {
    "scrolled": true
   },
   "outputs": [
    {
     "name": "stdout",
     "output_type": "stream",
     "text": [
      "  Population and dwelling counts: Canada and census subdivisions (municipalities) 1  \\\n",
      "0                              Frequency: Occasional                                  \n",
      "1                               Table: 98-10-0002-01                                  \n",
      "2                           Release date: 2022-02-09                                  \n",
      "3  Geography: Canada, Province or territory, Cens...                                  \n",
      "4  Universe: All persons, 2021 and 2016 censuses ...                                  \n",
      "\n",
      "  Unnamed: 1 Unnamed: 2 Unnamed: 3 Unnamed: 4 Unnamed: 5 Unnamed: 6 Unnamed: 7  \n",
      "0        NaN        NaN        NaN        NaN        NaN        NaN        NaN  \n",
      "1        NaN        NaN        NaN        NaN        NaN        NaN        NaN  \n",
      "2        NaN        NaN        NaN        NaN        NaN        NaN        NaN  \n",
      "3        NaN        NaN        NaN        NaN        NaN        NaN        NaN  \n",
      "4        NaN        NaN        NaN        NaN        NaN        NaN        NaN  \n",
      "<class 'pandas.core.frame.DataFrame'>\n",
      "RangeIndex: 5197 entries, 0 to 5196\n",
      "Data columns (total 8 columns):\n",
      " #   Column                                                                             Non-Null Count  Dtype \n",
      "---  ------                                                                             --------------  ----- \n",
      " 0   Population and dwelling counts: Canada and census subdivisions (municipalities) 1  5185 non-null   object\n",
      " 1   Unnamed: 1                                                                         5172 non-null   object\n",
      " 2   Unnamed: 2                                                                         5163 non-null   object\n",
      " 3   Unnamed: 3                                                                         5163 non-null   object\n",
      " 4   Unnamed: 4                                                                         5163 non-null   object\n",
      " 5   Unnamed: 5                                                                         5163 non-null   object\n",
      " 6   Unnamed: 6                                                                         5163 non-null   object\n",
      " 7   Unnamed: 7                                                                         5163 non-null   object\n",
      "dtypes: object(8)\n",
      "memory usage: 324.9+ KB\n",
      "None\n"
     ]
    }
   ],
   "source": [
    "# Load the raw population data\n",
    "file_path = \"../data/raw/raw_population_data.csv\"\n",
    "raw_population_data = pd.read_csv(file_path)\n",
    "\n",
    "# Inspect first 5 rows and table information\n",
    "print(raw_population_data.head())\n",
    "print(raw_population_data.info())"
   ]
  },
  {
   "cell_type": "markdown",
   "id": "1cd53002-2a94-4889-a21c-83c5a88a05e9",
   "metadata": {},
   "source": [
    "We need to remove the first few rows of meta-data, let's do that now."
   ]
  },
  {
   "cell_type": "code",
   "execution_count": 3,
   "id": "f3e73272-7b4b-48b5-b61a-024fc8d61449",
   "metadata": {
    "scrolled": true
   },
   "outputs": [
    {
     "name": "stdout",
     "output_type": "stream",
     "text": [
      "     Population and dwelling counts: Canada and census subdivisions (municipalities) 1  \\\n",
      "9                                        Admirals Beach                                  \n",
      "10                                            Aquaforte                                  \n",
      "11                                        Arnold's Cove                                  \n",
      "12                                             Avondale                                  \n",
      "13                                              Bauline                                  \n",
      "...                                                 ...                                  \n",
      "5192                                                NaN                                  \n",
      "5193                                                NaN                                  \n",
      "5194                                                NaN                                  \n",
      "5195  How to cite: Statistics Canada. Table 98-10-00...                                  \n",
      "5196  https://www150.statcan.gc.ca/t1/tbl1/en/tv.act...                                  \n",
      "\n",
      "     Unnamed: 1 Unnamed: 2 Unnamed: 3 Unnamed: 4 Unnamed: 5 Unnamed: 6  \\\n",
      "9             T       N.L.         97        135      -28.1       24.2   \n",
      "10            T       N.L.         74         80       -7.5       6.88   \n",
      "11            T       N.L.        964        949        1.6       5.25   \n",
      "12            T       N.L.        584        641       -8.9      29.69   \n",
      "13            T       N.L.        412        452       -8.8      16.05   \n",
      "...         ...        ...        ...        ...        ...        ...   \n",
      "5192        NaN        NaN        NaN        NaN        NaN        NaN   \n",
      "5193        NaN        NaN        NaN        NaN        NaN        NaN   \n",
      "5194        NaN        NaN        NaN        NaN        NaN        NaN   \n",
      "5195        NaN        NaN        NaN        NaN        NaN        NaN   \n",
      "5196        NaN        NaN        NaN        NaN        NaN        NaN   \n",
      "\n",
      "     Unnamed: 7  \n",
      "9             4  \n",
      "10         10.7  \n",
      "11        183.8  \n",
      "12         19.7  \n",
      "13         25.7  \n",
      "...         ...  \n",
      "5192        NaN  \n",
      "5193        NaN  \n",
      "5194        NaN  \n",
      "5195        NaN  \n",
      "5196        NaN  \n",
      "\n",
      "[5188 rows x 8 columns]\n"
     ]
    }
   ],
   "source": [
    "raw_population_data = raw_population_data.iloc[9:]\n",
    "\n",
    "# Verify the new data\n",
    "print(raw_population_data)"
   ]
  },
  {
   "cell_type": "markdown",
   "id": "a8bf7519-0249-455b-aad9-af879b1e07fc",
   "metadata": {},
   "source": [
    "Let's also get rid of the last few rows of meta-data. First, we'll print the tail of the data and then remove appropriately."
   ]
  },
  {
   "cell_type": "code",
   "execution_count": 4,
   "id": "451f3641-46f4-4639-8759-73e3a15fcc52",
   "metadata": {},
   "outputs": [
    {
     "name": "stdout",
     "output_type": "stream",
     "text": [
      "     Population and dwelling counts: Canada and census subdivisions (municipalities) 1  \\\n",
      "5192                                                NaN                                  \n",
      "5193                                                NaN                                  \n",
      "5194                                                NaN                                  \n",
      "5195  How to cite: Statistics Canada. Table 98-10-00...                                  \n",
      "5196  https://www150.statcan.gc.ca/t1/tbl1/en/tv.act...                                  \n",
      "\n",
      "     Unnamed: 1 Unnamed: 2 Unnamed: 3 Unnamed: 4 Unnamed: 5 Unnamed: 6  \\\n",
      "5192        NaN        NaN        NaN        NaN        NaN        NaN   \n",
      "5193        NaN        NaN        NaN        NaN        NaN        NaN   \n",
      "5194        NaN        NaN        NaN        NaN        NaN        NaN   \n",
      "5195        NaN        NaN        NaN        NaN        NaN        NaN   \n",
      "5196        NaN        NaN        NaN        NaN        NaN        NaN   \n",
      "\n",
      "     Unnamed: 7  \n",
      "5192        NaN  \n",
      "5193        NaN  \n",
      "5194        NaN  \n",
      "5195        NaN  \n",
      "5196        NaN  \n",
      "     Population and dwelling counts: Canada and census subdivisions (municipalities) 1  \\\n",
      "5165                                         Pond Inlet                                  \n",
      "5166                         Qikiqtaaluk, Unorganized 2                                  \n",
      "5167                                       Qikiqtarjuaq                                  \n",
      "5168                                           Resolute                                  \n",
      "5169                                         Sanikiluaq                                  \n",
      "\n",
      "     Unnamed: 1 Unnamed: 2 Unnamed: 3 Unnamed: 4 Unnamed: 5  Unnamed: 6  \\\n",
      "5165        HAM       Nvt.      1,555      1,617       -3.8      170.83   \n",
      "5166         NO       Nvt.          0          0        ...  968,988.38   \n",
      "5167        HAM       Nvt.        593        598       -0.8       130.8   \n",
      "5168        HAM       Nvt.        183        198       -7.6      115.02   \n",
      "5169        HAM       Nvt.      1,010        882       14.5      109.68   \n",
      "\n",
      "     Unnamed: 7  \n",
      "5165        9.1  \n",
      "5166          0  \n",
      "5167        4.5  \n",
      "5168        1.6  \n",
      "5169        9.2  \n"
     ]
    }
   ],
   "source": [
    "print(raw_population_data.tail())\n",
    "raw_population_data = raw_population_data.iloc[:-27]\n",
    "print(raw_population_data.tail())"
   ]
  },
  {
   "cell_type": "markdown",
   "id": "1c7da954-7ee7-4729-b940-dce8a859c563",
   "metadata": {},
   "source": [
    "Perfect! Now we can clean the data, checking to see if there are any cells that have a value of NaN (empty cells), \"..\" or \"...\" for \"not available for this time period\" or \"not applicable\", respectfully (in the words of Statistics Canada - https://www.statcan.gc.ca/en/concepts/definitions/guide-symbol) or \"x\"/\"X\" (censored data). For these values, we can just set them to 0, as they are effectively the same for the purpose of this project. Cities with these values will most likely be sorted out of our data later in this project, so I'm not overly concerned with being specific to their values."
   ]
  },
  {
   "cell_type": "code",
   "execution_count": 5,
   "id": "4ac24893-f9b2-4fd0-bc96-d91cf2a6b133",
   "metadata": {},
   "outputs": [
    {
     "name": "stdout",
     "output_type": "stream",
     "text": [
      "0\n"
     ]
    }
   ],
   "source": [
    "# Replace values of \"..\" and \"...\" wiith 0\n",
    "raw_population_data = raw_population_data.replace(\"..\", \"...\")\n",
    "raw_population_data = raw_population_data.replace(\"...\", 0)\n",
    "\n",
    "print(raw_population_data.isnull().all(axis=1).sum()) # Should print 0 if all cells have a value (non-empty)"
   ]
  },
  {
   "cell_type": "markdown",
   "id": "ceff6bbf-d610-4563-a9e9-d5c2321a3160",
   "metadata": {},
   "source": [
    "Because we verified that each cell has a value, we can skip changing from NaN or from x/X, unlike the commuting data cleaning process. Next, let's rename the columns to accurately describe the data."
   ]
  },
  {
   "cell_type": "code",
   "execution_count": 6,
   "id": "dad88bb4-61c9-46ac-a2aa-0f205aa8d42f",
   "metadata": {},
   "outputs": [
    {
     "name": "stdout",
     "output_type": "stream",
     "text": [
      "         Geography Geographic Area Type Province or Territory Abbreviation  \\\n",
      "9   Admirals Beach                    T                               N.L.   \n",
      "10       Aquaforte                    T                               N.L.   \n",
      "11   Arnold's Cove                    T                               N.L.   \n",
      "12        Avondale                    T                               N.L.   \n",
      "13         Bauline                    T                               N.L.   \n",
      "\n",
      "   Population (2021) Population (2016)  \\\n",
      "9                 97               135   \n",
      "10                74                80   \n",
      "11               964               949   \n",
      "12               584               641   \n",
      "13               412               452   \n",
      "\n",
      "   Population Percentage Change (2016->2021) Land area (2021) (km^2)  \\\n",
      "9                                      -28.1                    24.2   \n",
      "10                                      -7.5                    6.88   \n",
      "11                                       1.6                    5.25   \n",
      "12                                      -8.9                   29.69   \n",
      "13                                      -8.8                   16.05   \n",
      "\n",
      "   Population density per km^2 (2021)  \n",
      "9                                   4  \n",
      "10                               10.7  \n",
      "11                              183.8  \n",
      "12                               19.7  \n",
      "13                               25.7  \n"
     ]
    }
   ],
   "source": [
    "new_columns = [\"Geography\", \"Geographic Area Type\", \"Province or Territory Abbreviation\", \"Population (2021)\", \n",
    "               \"Population (2016)\", \"Population Percentage Change (2016->2021)\", \"Land area (2021) (km^2)\",\n",
    "               \"Population density per km^2 (2021)\"]\n",
    "\n",
    "# Set the new columns\n",
    "raw_population_data.columns = new_columns\n",
    "\n",
    "# Verify the columns are correct\n",
    "print(raw_population_data.head())"
   ]
  },
  {
   "cell_type": "markdown",
   "id": "e1703f00-424f-49d1-a93a-6312c13e249f",
   "metadata": {},
   "source": [
    "At this time, I don't think the \"Geographic Area Type\" will be useful for our data analysis. For now, we can just drop this column to make our analysis easier, focusing on the more relevant data for now. This step can be undone in the future if we need the Geographic Area type data at a later date."
   ]
  },
  {
   "cell_type": "code",
   "execution_count": 7,
   "id": "6751d188-827e-4404-a0d1-1818600199ed",
   "metadata": {},
   "outputs": [
    {
     "name": "stdout",
     "output_type": "stream",
     "text": [
      "         Geography Province or Territory Abbreviation Population (2021)  \\\n",
      "9   Admirals Beach                               N.L.                97   \n",
      "10       Aquaforte                               N.L.                74   \n",
      "11   Arnold's Cove                               N.L.               964   \n",
      "12        Avondale                               N.L.               584   \n",
      "13         Bauline                               N.L.               412   \n",
      "\n",
      "   Population (2016) Population Percentage Change (2016->2021)  \\\n",
      "9                135                                     -28.1   \n",
      "10                80                                      -7.5   \n",
      "11               949                                       1.6   \n",
      "12               641                                      -8.9   \n",
      "13               452                                      -8.8   \n",
      "\n",
      "   Land area (2021) (km^2) Population density per km^2 (2021)  \n",
      "9                     24.2                                  4  \n",
      "10                    6.88                               10.7  \n",
      "11                    5.25                              183.8  \n",
      "12                   29.69                               19.7  \n",
      "13                   16.05                               25.7  \n"
     ]
    }
   ],
   "source": [
    "raw_population_data = raw_population_data.drop(columns=\"Geographic Area Type\")\n",
    "print(raw_population_data.head())"
   ]
  },
  {
   "cell_type": "markdown",
   "id": "03547799-1bdd-4f04-8a29-050555880b5f",
   "metadata": {},
   "source": [
    "Let's also convert the data type for the quantitative columns to prepare them for EDA at a later stage of this project."
   ]
  },
  {
   "cell_type": "code",
   "execution_count": 8,
   "id": "13303bcb-733b-4c2f-9e2d-ee6b96f9b5b0",
   "metadata": {},
   "outputs": [
    {
     "name": "stdout",
     "output_type": "stream",
     "text": [
      "Geography                                    object\n",
      "Province or Territory Abbreviation           object\n",
      "Population (2021)                            object\n",
      "Population (2016)                            object\n",
      "Population Percentage Change (2016->2021)    object\n",
      "Land area (2021) (km^2)                      object\n",
      "Population density per km^2 (2021)           object\n",
      "dtype: object\n"
     ]
    }
   ],
   "source": [
    "print(raw_population_data.dtypes)"
   ]
  },
  {
   "cell_type": "code",
   "execution_count": 9,
   "id": "95edbbc0-0560-4ba7-9111-ea8c07cae1e5",
   "metadata": {},
   "outputs": [
    {
     "name": "stdout",
     "output_type": "stream",
     "text": [
      "Geography                                     object\n",
      "Province or Territory Abbreviation            object\n",
      "Population (2021)                              int64\n",
      "Population (2016)                              int64\n",
      "Population Percentage Change (2016->2021)    float64\n",
      "Land area (2021) (km^2)                      float64\n",
      "Population density per km^2 (2021)           float64\n",
      "dtype: object\n",
      "         Geography Province or Territory Abbreviation  Population (2021)  \\\n",
      "9   Admirals Beach                               N.L.                 97   \n",
      "10       Aquaforte                               N.L.                 74   \n",
      "11   Arnold's Cove                               N.L.                964   \n",
      "12        Avondale                               N.L.                584   \n",
      "13         Bauline                               N.L.                412   \n",
      "\n",
      "    Population (2016)  Population Percentage Change (2016->2021)  \\\n",
      "9                 135                                      -28.1   \n",
      "10                 80                                       -7.5   \n",
      "11                949                                        1.6   \n",
      "12                641                                       -8.9   \n",
      "13                452                                       -8.8   \n",
      "\n",
      "    Land area (2021) (km^2)  Population density per km^2 (2021)  \n",
      "9                     24.20                                 4.0  \n",
      "10                     6.88                                10.7  \n",
      "11                     5.25                               183.8  \n",
      "12                    29.69                                19.7  \n",
      "13                    16.05                                25.7  \n"
     ]
    }
   ],
   "source": [
    "# Convert specific columns to numeric types\n",
    "columns_to_convert = [\n",
    "    \"Population (2021)\",\n",
    "    \"Population (2016)\",\n",
    "    \"Population Percentage Change (2016->2021)\",\n",
    "    \"Land area (2021) (km^2)\",\n",
    "    \"Population density per km^2 (2021)\"\n",
    "]\n",
    "\n",
    "# Convert only the necessary columns\n",
    "for column in columns_to_convert:\n",
    "    if column in raw_population_data.columns:\n",
    "        if raw_population_data[column].dtype == \"object\":  # Check if column is string-like\n",
    "            raw_population_data[column] = pd.to_numeric(\n",
    "                raw_population_data[column].str.replace(\",\", \"\").fillna(0), errors=\"coerce\"\n",
    "            )\n",
    "        else:\n",
    "            print(f\"Skipping column {column}: already numeric.\")\n",
    "    else:\n",
    "        print(f\"Column {column} does not exist in the DataFrame!\")\n",
    "\n",
    "# Verify the data types\n",
    "print(raw_population_data.dtypes)\n",
    "print(raw_population_data.head())"
   ]
  },
  {
   "cell_type": "markdown",
   "id": "9785d111-6d71-481e-bfa9-a0d496597dce",
   "metadata": {},
   "source": [
    "Now that our data is complete, we can export this cleaned data as a .csv file to our processed data folder."
   ]
  },
  {
   "cell_type": "code",
   "execution_count": 10,
   "id": "4dc34620-dabe-4d9e-8390-e5e6861599ba",
   "metadata": {},
   "outputs": [
    {
     "name": "stdout",
     "output_type": "stream",
     "text": [
      "Duplicate entries in population data:         Geography Province or Territory Abbreviation  Population (2021)  \\\n",
      "85    South River                               N.L.                674   \n",
      "91     St. Mary's                               N.L.                313   \n",
      "98       Victoria                               N.L.               1658   \n",
      "183     Deer Lake                               N.L.               4864   \n",
      "191       Hampden                               N.L.                439   \n",
      "...           ...                                ...                ...   \n",
      "4708     Richmond                               B.C.             209937   \n",
      "4801    Armstrong                               B.C.               5323   \n",
      "5069       Dawson                               Y.T.               1577   \n",
      "5080         Mayo                               Y.T.                188   \n",
      "5157  Clyde River                               Nvt.               1181   \n",
      "\n",
      "      Population (2016)  Population Percentage Change (2016->2021)  \\\n",
      "85                  647                                        4.2   \n",
      "91                  347                                       -9.8   \n",
      "98                 1800                                       -7.9   \n",
      "183                5249                                       -7.3   \n",
      "191                 429                                        2.3   \n",
      "...                 ...                                        ...   \n",
      "4708             198309                                        5.9   \n",
      "4801               5114                                        4.1   \n",
      "5069               1375                                       14.7   \n",
      "5080                200                                       -6.0   \n",
      "5157               1053                                       12.2   \n",
      "\n",
      "      Land area (2021) (km^2)  Population density per km^2 (2021)  \n",
      "85                       5.97                               113.0  \n",
      "91                      36.41                                 8.6  \n",
      "98                      17.96                                92.3  \n",
      "183                     73.26                                66.4  \n",
      "191                     32.99                                13.3  \n",
      "...                       ...                                 ...  \n",
      "4708                   128.87                              1629.0  \n",
      "4801                     5.22                              1020.0  \n",
      "5069                    30.91                                51.0  \n",
      "5080                     0.98                               191.4  \n",
      "5157                   103.38                                11.4  \n",
      "\n",
      "[347 rows x 7 columns]\n"
     ]
    }
   ],
   "source": [
    "# Check for duplicates in the population data\n",
    "duplicate_population = raw_population_data[raw_population_data.duplicated(subset=\"Geography\", keep=False)]\n",
    "print(f\"Duplicate entries in population data: {duplicate_population}\")"
   ]
  },
  {
   "cell_type": "code",
   "execution_count": 11,
   "id": "6a46d1d2-a9a1-4285-9a67-702d3c4e8e8d",
   "metadata": {},
   "outputs": [],
   "source": [
    "raw_population_data = raw_population_data.drop_duplicates(subset=\"Geography\", keep=\"first\")"
   ]
  },
  {
   "cell_type": "code",
   "execution_count": 12,
   "id": "86b7c6e6-78f8-4ff0-9b04-2c6cf0e4d21f",
   "metadata": {},
   "outputs": [
    {
     "name": "stdout",
     "output_type": "stream",
     "text": [
      "Duplicate entries in population data: Empty DataFrame\n",
      "Columns: [Geography, Province or Territory Abbreviation, Population (2021), Population (2016), Population Percentage Change (2016->2021), Land area (2021) (km^2), Population density per km^2 (2021)]\n",
      "Index: []\n"
     ]
    }
   ],
   "source": [
    "# Check for duplicates in the population data\n",
    "duplicate_population = raw_population_data[raw_population_data.duplicated(subset=\"Geography\", keep=False)]\n",
    "print(f\"Duplicate entries in population data: {duplicate_population}\")"
   ]
  },
  {
   "cell_type": "code",
   "execution_count": 13,
   "id": "2679af17-7971-468b-9e20-741426c3ec5f",
   "metadata": {},
   "outputs": [],
   "source": [
    "cleaned_population_data = raw_population_data\n",
    "\n",
    "cleaned_population_data.to_csv(\"../data/processed/cleaned_population_data.csv\", index=False)"
   ]
  }
 ],
 "metadata": {
  "kernelspec": {
   "display_name": "Python 3 (ipykernel)",
   "language": "python",
   "name": "python3"
  },
  "language_info": {
   "codemirror_mode": {
    "name": "ipython",
    "version": 3
   },
   "file_extension": ".py",
   "mimetype": "text/x-python",
   "name": "python",
   "nbconvert_exporter": "python",
   "pygments_lexer": "ipython3",
   "version": "3.12.8"
  }
 },
 "nbformat": 4,
 "nbformat_minor": 5
}
